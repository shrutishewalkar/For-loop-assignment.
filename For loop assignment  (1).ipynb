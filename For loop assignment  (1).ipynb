{
 "cells": [
  {
   "cell_type": "markdown",
   "id": "1aaa008a-95a1-430a-bc51-b9f06d03ff93",
   "metadata": {},
   "source": [
    "Q1 Explain with an example each when to use a for loop and a while loop."
   ]
  },
  {
   "cell_type": "markdown",
   "id": "aceb0199-ec21-4fb8-823a-3754ec2c1832",
   "metadata": {},
   "source": [
    "Ans:"
   ]
  },
  {
   "cell_type": "markdown",
   "id": "8c130f50-1143-48c4-ad8d-3e2de7619830",
   "metadata": {},
   "source": [
    "A \"for\" loop is used in Python to iterate over a sequence (such as a list, tuple, dictionary, set, or string) and execute a block of code for each item in the sequence."
   ]
  },
  {
   "cell_type": "code",
   "execution_count": 1,
   "id": "3dca7f26-3e7d-40f1-8922-5414ecf9f5c6",
   "metadata": {},
   "outputs": [
    {
     "name": "stdout",
     "output_type": "stream",
     "text": [
      "This\n",
      "is\n",
      "a\n",
      "list\n",
      "1\n",
      "35\n"
     ]
    }
   ],
   "source": [
    "l1= ['This', 'is' , 'a', 'list', 1,35]\n",
    "\n",
    "for each_element in l1:\n",
    "    print(each_element)"
   ]
  },
  {
   "cell_type": "markdown",
   "id": "9665e2c7-f2ad-497e-ae42-2b1f4621d1c7",
   "metadata": {},
   "source": [
    "A \"while\" loop, on the other hand, is used to repeatedly execute a block of code as long as a certain condition is met. It is useful when you do not know beforehand how many iterations are required to meet the condition."
   ]
  },
  {
   "cell_type": "code",
   "execution_count": 2,
   "id": "6e939f83-94cd-41b1-9271-9c3b1e0bdfb1",
   "metadata": {},
   "outputs": [
    {
     "name": "stdout",
     "output_type": "stream",
     "text": [
      "0  is not equal to 10\n",
      "1  is not equal to 10\n",
      "2  is not equal to 10\n",
      "3  is not equal to 10\n",
      "4  is not equal to 10\n",
      "5  is not equal to 10\n",
      "6  is not equal to 10\n",
      "7  is not equal to 10\n",
      "8  is not equal to 10\n",
      "9  is not equal to 10\n"
     ]
    }
   ],
   "source": [
    "i=0\n",
    "\n",
    "while i!=10:\n",
    "    print(i, ' is not equal to 10')\n",
    "    i+=1"
   ]
  },
  {
   "cell_type": "markdown",
   "id": "19aab3bc-357a-474a-b84d-5df429be4225",
   "metadata": {},
   "source": [
    "In short, \"for\" loops are used when you know the number of iterations beforehand, while \"while\" loops are used when you don't."
   ]
  },
  {
   "cell_type": "markdown",
   "id": "4605a833-1c21-4056-b756-eca2b9200519",
   "metadata": {},
   "source": [
    "Q2 Write a python program to print the sum and product of the first 10 natural numbers."
   ]
  },
  {
   "cell_type": "code",
   "execution_count": 3,
   "id": "938fd7a5-5bc8-433f-ad04-465af0920f08",
   "metadata": {},
   "outputs": [
    {
     "name": "stdout",
     "output_type": "stream",
     "text": [
      "The sum of the first 10 natural numbers is:  55\n",
      "The product of the first 10 natural number is:  3628800\n"
     ]
    }
   ],
   "source": [
    "natural_list=list(range(1,11))\n",
    "result_sum = 0\n",
    "result_product = 1\n",
    "\n",
    "for each_element in natural_list:\n",
    "    result_sum = result_sum+each_element\n",
    "    result_product = result_product*each_element\n",
    "print('The sum of the first 10 natural numbers is: ', result_sum)\n",
    "print('The product of the first 10 natural number is: ', result_product)"
   ]
  },
  {
   "cell_type": "markdown",
   "id": "30a7619c-4774-4f33-a10a-b30c4d1b960e",
   "metadata": {},
   "source": [
    "Q3 Create a list of numbers from 1 to 100. Use for loop and while loop to calculate the cube of each number and if the cube of that number is divisible by 4 or 5 then append that number in a list and print that list."
   ]
  },
  {
   "cell_type": "code",
   "execution_count": 1,
   "id": "61d15ea4-4df5-41eb-ab55-84212367c10d",
   "metadata": {},
   "outputs": [
    {
     "name": "stdout",
     "output_type": "stream",
     "text": [
      "Resultant List:  [8, 64, 125, 216, 512, 1000, 1728, 2744, 3375, 4096, 5832, 8000, 10648, 13824, 15625, 17576, 21952, 27000, 32768, 39304, 42875, 46656, 54872, 64000, 74088, 85184, 91125, 97336, 110592, 125000, 140608, 157464, 166375, 175616, 195112, 216000, 238328, 262144, 274625, 287496, 314432, 343000, 373248, 405224, 421875, 438976, 474552, 512000, 551368, 592704, 614125, 636056, 681472, 729000, 778688, 830584, 857375, 884736, 941192, 1000000]\n"
     ]
    }
   ],
   "source": [
    "list_first = list(range(1,101))\n",
    "result = 0\n",
    "list_result =[]\n",
    "\n",
    "for each_element in list_first:\n",
    "    result = each_element**3\n",
    "    if result%4==0 or result%5==0:\n",
    "        list_result.append(result)\n",
    "print('Resultant List: ', list_result)"
   ]
  },
  {
   "cell_type": "code",
   "execution_count": 2,
   "id": "4fd8e6d1-ef22-4917-9f85-b85c02998721",
   "metadata": {},
   "outputs": [
    {
     "name": "stdout",
     "output_type": "stream",
     "text": [
      "Resultant List:  [8, 64, 125, 216, 512, 1000, 1728, 2744, 3375, 4096, 5832, 8000, 10648, 13824, 15625, 17576, 21952, 27000, 32768, 39304, 42875, 46656, 54872, 64000, 74088, 85184, 91125, 97336, 110592, 125000, 140608, 157464, 166375, 175616, 195112, 216000, 238328, 262144, 274625, 287496, 314432, 343000, 373248, 405224, 421875, 438976, 474552, 512000, 551368, 592704, 614125, 636056, 681472, 729000, 778688, 830584, 857375, 884736, 941192, 1000000]\n"
     ]
    }
   ],
   "source": [
    "iterr = 0\n",
    "list_result2 = []\n",
    "while iterr<100:\n",
    "    result = list_first[iterr]**3\n",
    "    if result%4==0 or result%5==0:\n",
    "        list_result2.append(result)\n",
    "    iterr+=1\n",
    "print('Resultant List: ', list_result2)"
   ]
  },
  {
   "cell_type": "markdown",
   "id": "d8516b8a-3187-4ea4-ae49-ccceb4a7f8dc",
   "metadata": {},
   "source": [
    "Q4 Write a program to filter count vowels in the below given string.\n",
    "string = \"I want to become a data scientist\""
   ]
  },
  {
   "cell_type": "markdown",
   "id": "ce476fcd-b755-4df1-be04-04fc1296cbfe",
   "metadata": {},
   "source": [
    "Ans"
   ]
  },
  {
   "cell_type": "code",
   "execution_count": 6,
   "id": "74ffbeb3-8507-4108-9f43-5588e77b39b3",
   "metadata": {},
   "outputs": [
    {
     "name": "stdout",
     "output_type": "stream",
     "text": [
      "Total vowels in given string:  12\n"
     ]
    }
   ],
   "source": [
    "given_string = 'I want to become a data scientist'\n",
    "vowels= ['a', 'e', 'i', 'I', 'o', 'u']\n",
    "vowels_count = 0\n",
    "\n",
    "for each_letter in given_string:\n",
    "    #print(each_letter)\n",
    "    for each_vowel in vowels:\n",
    "        if each_letter == each_vowel:\n",
    "            #print(each_letter, 'is equal to', each_vowel)\n",
    "            vowels_count+=1\n",
    "            \n",
    "print('Total vowels in given string: ', vowels_count)"
   ]
  },
  {
   "cell_type": "code",
   "execution_count": null,
   "id": "6cc8a938-b7ea-4cb0-829b-832f013094c4",
   "metadata": {},
   "outputs": [],
   "source": []
  }
 ],
 "metadata": {
  "kernelspec": {
   "display_name": "Python 3 (ipykernel)",
   "language": "python",
   "name": "python3"
  },
  "language_info": {
   "codemirror_mode": {
    "name": "ipython",
    "version": 3
   },
   "file_extension": ".py",
   "mimetype": "text/x-python",
   "name": "python",
   "nbconvert_exporter": "python",
   "pygments_lexer": "ipython3",
   "version": "3.10.8"
  }
 },
 "nbformat": 4,
 "nbformat_minor": 5
}
